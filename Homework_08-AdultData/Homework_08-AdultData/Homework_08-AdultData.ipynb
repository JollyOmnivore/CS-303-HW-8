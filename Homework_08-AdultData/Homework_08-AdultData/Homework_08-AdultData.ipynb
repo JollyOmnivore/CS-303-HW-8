{
 "cells": [
  {
   "cell_type": "markdown",
   "id": "f1a5e009",
   "metadata": {},
   "source": [
    "# import modules"
   ]
  },
  {
   "cell_type": "code",
   "execution_count": 39,
   "id": "3c31e3c3",
   "metadata": {},
   "outputs": [],
   "source": [
    "import pandas as pd\n",
    "from sklearn.linear_model import LogisticRegression\n",
    "from sklearn.metrics import accuracy_score\n",
    "\n"
   ]
  },
  {
   "cell_type": "markdown",
   "id": "3fdd847e",
   "metadata": {},
   "source": [
    "# helper functions (if needed)"
   ]
  },
  {
   "cell_type": "code",
   "execution_count": 40,
   "id": "0261b926",
   "metadata": {},
   "outputs": [],
   "source": [
    "# python code..."
   ]
  },
  {
   "cell_type": "markdown",
   "id": "42c884d1",
   "metadata": {},
   "source": [
    "# read training data into data frame"
   ]
  },
  {
   "cell_type": "code",
   "execution_count": 41,
   "id": "4240c68b",
   "metadata": {
    "scrolled": true
   },
   "outputs": [
    {
     "name": "stdout",
     "output_type": "stream",
     "text": [
      "       age         workclass     education  education-num      marital-status  \\\n",
      "0       39         State-gov     Bachelors             13       Never-married   \n",
      "1       50  Self-emp-not-inc     Bachelors             13  Married-civ-spouse   \n",
      "2       38           Private       HS-grad              9            Divorced   \n",
      "3       53           Private          11th              7  Married-civ-spouse   \n",
      "4       37           Private       Masters             14  Married-civ-spouse   \n",
      "...    ...               ...           ...            ...                 ...   \n",
      "26044   43           Private     Assoc-voc             11  Married-civ-spouse   \n",
      "26045   32           Private       Masters             14       Never-married   \n",
      "26046   53           Private       Masters             14  Married-civ-spouse   \n",
      "26047   22           Private  Some-college             10       Never-married   \n",
      "26048   40           Private       HS-grad              9  Married-civ-spouse   \n",
      "\n",
      "              occupation   relationship                race     sex  \\\n",
      "0           Adm-clerical  Not-in-family               White    Male   \n",
      "1        Exec-managerial        Husband               White    Male   \n",
      "2      Handlers-cleaners  Not-in-family               White    Male   \n",
      "3      Handlers-cleaners        Husband               Black    Male   \n",
      "4        Exec-managerial           Wife               White  Female   \n",
      "...                  ...            ...                 ...     ...   \n",
      "26044              Sales        Husband               White    Male   \n",
      "26045       Tech-support  Not-in-family  Asian-Pac-Islander    Male   \n",
      "26046    Exec-managerial        Husband               White    Male   \n",
      "26047    Protective-serv  Not-in-family               White    Male   \n",
      "26048  Machine-op-inspct        Husband               White    Male   \n",
      "\n",
      "       hours-per-week native-country income  \n",
      "0                  40  United-States  <=50K  \n",
      "1                  13  United-States  <=50K  \n",
      "2                  40  United-States  <=50K  \n",
      "3                  40  United-States  <=50K  \n",
      "4                  40  United-States  <=50K  \n",
      "...               ...            ...    ...  \n",
      "26044              45  United-States  <=50K  \n",
      "26045              11         Taiwan  <=50K  \n",
      "26046              40  United-States   >50K  \n",
      "26047              40  United-States  <=50K  \n",
      "26048              40  United-States   >50K  \n",
      "\n",
      "[26049 rows x 12 columns]\n"
     ]
    }
   ],
   "source": [
    "train_data = pd.read_csv('train.csv')\n",
    "test_data = pd.read_csv('test.csv')\n",
    "print(train_data)"
   ]
  },
  {
   "cell_type": "markdown",
   "id": "4915e6da",
   "metadata": {},
   "source": [
    "# analyze and visualize data to find candidate features"
   ]
  },
  {
   "cell_type": "code",
   "execution_count": 42,
   "id": "2acf3578",
   "metadata": {},
   "outputs": [],
   "source": [
    "# python code..."
   ]
  },
  {
   "cell_type": "markdown",
   "id": "d3bb038e",
   "metadata": {},
   "source": [
    "# split training data into features (X) and targets (y)"
   ]
  },
  {
   "cell_type": "code",
   "execution_count": 43,
   "id": "27c0eefd",
   "metadata": {},
   "outputs": [],
   "source": [
    "# Split the data into features and target\n",
    "X = train_data.drop('income', axis=1)\n",
    "y = train_data['income']\n",
    "\n",
    "# Define a subset of the features to use\n",
    "features = ['age', 'workclass', 'education', 'education-num', 'marital-status', 'occupation', 'relationship', 'race', 'sex', 'hours-per-week', 'native-country']"
   ]
  },
  {
   "cell_type": "markdown",
   "id": "015e6b9b",
   "metadata": {},
   "source": [
    "# convert categorical data from strings to integers "
   ]
  },
  {
   "cell_type": "code",
   "execution_count": 44,
   "id": "5f303392",
   "metadata": {},
   "outputs": [],
   "source": [
    "# Convert categorical columns to numerical representation\n",
    "categorical_cols = ['workclass', 'education', 'marital-status', 'occupation', 'relationship', 'race', 'sex', 'native-country']\n",
    "for col in categorical_cols:\n",
    "    train_data[col] = pd.Categorical(train_data[col])\n",
    "    train_data[col] = train_data[col].cat.codes"
   ]
  },
  {
   "cell_type": "markdown",
   "id": "f3999c5a",
   "metadata": {},
   "source": [
    "# experiment w/ classifying training data using various feature sets"
   ]
  },
  {
   "cell_type": "code",
   "execution_count": 45,
   "id": "2c2ce6f5",
   "metadata": {
    "scrolled": false
   },
   "outputs": [
    {
     "ename": "ValueError",
     "evalue": "could not convert string to float: 'State-gov'",
     "output_type": "error",
     "traceback": [
      "\u001b[1;31m---------------------------------------------------------------------------\u001b[0m",
      "\u001b[1;31mValueError\u001b[0m                                Traceback (most recent call last)",
      "\u001b[1;32m~\\AppData\\Local\\Temp\\ipykernel_3824\\4012089927.py\u001b[0m in \u001b[0;36m<module>\u001b[1;34m\u001b[0m\n\u001b[0;32m      4\u001b[0m \u001b[1;31m# Train a logistic regression model on the training data using the selected features\u001b[0m\u001b[1;33m\u001b[0m\u001b[1;33m\u001b[0m\u001b[0m\n\u001b[0;32m      5\u001b[0m \u001b[0mmodel\u001b[0m \u001b[1;33m=\u001b[0m \u001b[0mLogisticRegression\u001b[0m\u001b[1;33m(\u001b[0m\u001b[1;33m)\u001b[0m\u001b[1;33m\u001b[0m\u001b[1;33m\u001b[0m\u001b[0m\n\u001b[1;32m----> 6\u001b[1;33m \u001b[0mmodel\u001b[0m\u001b[1;33m.\u001b[0m\u001b[0mfit\u001b[0m\u001b[1;33m(\u001b[0m\u001b[0mX\u001b[0m\u001b[1;33m[\u001b[0m\u001b[0mfeatures\u001b[0m\u001b[1;33m]\u001b[0m\u001b[1;33m,\u001b[0m \u001b[0my\u001b[0m\u001b[1;33m)\u001b[0m\u001b[1;33m\u001b[0m\u001b[1;33m\u001b[0m\u001b[0m\n\u001b[0m\u001b[0;32m      7\u001b[0m \u001b[1;33m\u001b[0m\u001b[0m\n\u001b[0;32m      8\u001b[0m \u001b[1;31m# Make predictions on the training data using the selected features\u001b[0m\u001b[1;33m\u001b[0m\u001b[1;33m\u001b[0m\u001b[0m\n",
      "\u001b[1;32m~\\anaconda3\\lib\\site-packages\\sklearn\\linear_model\\_logistic.py\u001b[0m in \u001b[0;36mfit\u001b[1;34m(self, X, y, sample_weight)\u001b[0m\n\u001b[0;32m   1506\u001b[0m             \u001b[0m_dtype\u001b[0m \u001b[1;33m=\u001b[0m \u001b[1;33m[\u001b[0m\u001b[0mnp\u001b[0m\u001b[1;33m.\u001b[0m\u001b[0mfloat64\u001b[0m\u001b[1;33m,\u001b[0m \u001b[0mnp\u001b[0m\u001b[1;33m.\u001b[0m\u001b[0mfloat32\u001b[0m\u001b[1;33m]\u001b[0m\u001b[1;33m\u001b[0m\u001b[1;33m\u001b[0m\u001b[0m\n\u001b[0;32m   1507\u001b[0m \u001b[1;33m\u001b[0m\u001b[0m\n\u001b[1;32m-> 1508\u001b[1;33m         X, y = self._validate_data(\n\u001b[0m\u001b[0;32m   1509\u001b[0m             \u001b[0mX\u001b[0m\u001b[1;33m,\u001b[0m\u001b[1;33m\u001b[0m\u001b[1;33m\u001b[0m\u001b[0m\n\u001b[0;32m   1510\u001b[0m             \u001b[0my\u001b[0m\u001b[1;33m,\u001b[0m\u001b[1;33m\u001b[0m\u001b[1;33m\u001b[0m\u001b[0m\n",
      "\u001b[1;32m~\\anaconda3\\lib\\site-packages\\sklearn\\base.py\u001b[0m in \u001b[0;36m_validate_data\u001b[1;34m(self, X, y, reset, validate_separately, **check_params)\u001b[0m\n\u001b[0;32m    579\u001b[0m                 \u001b[0my\u001b[0m \u001b[1;33m=\u001b[0m \u001b[0mcheck_array\u001b[0m\u001b[1;33m(\u001b[0m\u001b[0my\u001b[0m\u001b[1;33m,\u001b[0m \u001b[1;33m**\u001b[0m\u001b[0mcheck_y_params\u001b[0m\u001b[1;33m)\u001b[0m\u001b[1;33m\u001b[0m\u001b[1;33m\u001b[0m\u001b[0m\n\u001b[0;32m    580\u001b[0m             \u001b[1;32melse\u001b[0m\u001b[1;33m:\u001b[0m\u001b[1;33m\u001b[0m\u001b[1;33m\u001b[0m\u001b[0m\n\u001b[1;32m--> 581\u001b[1;33m                 \u001b[0mX\u001b[0m\u001b[1;33m,\u001b[0m \u001b[0my\u001b[0m \u001b[1;33m=\u001b[0m \u001b[0mcheck_X_y\u001b[0m\u001b[1;33m(\u001b[0m\u001b[0mX\u001b[0m\u001b[1;33m,\u001b[0m \u001b[0my\u001b[0m\u001b[1;33m,\u001b[0m \u001b[1;33m**\u001b[0m\u001b[0mcheck_params\u001b[0m\u001b[1;33m)\u001b[0m\u001b[1;33m\u001b[0m\u001b[1;33m\u001b[0m\u001b[0m\n\u001b[0m\u001b[0;32m    582\u001b[0m             \u001b[0mout\u001b[0m \u001b[1;33m=\u001b[0m \u001b[0mX\u001b[0m\u001b[1;33m,\u001b[0m \u001b[0my\u001b[0m\u001b[1;33m\u001b[0m\u001b[1;33m\u001b[0m\u001b[0m\n\u001b[0;32m    583\u001b[0m \u001b[1;33m\u001b[0m\u001b[0m\n",
      "\u001b[1;32m~\\anaconda3\\lib\\site-packages\\sklearn\\utils\\validation.py\u001b[0m in \u001b[0;36mcheck_X_y\u001b[1;34m(X, y, accept_sparse, accept_large_sparse, dtype, order, copy, force_all_finite, ensure_2d, allow_nd, multi_output, ensure_min_samples, ensure_min_features, y_numeric, estimator)\u001b[0m\n\u001b[0;32m    962\u001b[0m         \u001b[1;32mraise\u001b[0m \u001b[0mValueError\u001b[0m\u001b[1;33m(\u001b[0m\u001b[1;34m\"y cannot be None\"\u001b[0m\u001b[1;33m)\u001b[0m\u001b[1;33m\u001b[0m\u001b[1;33m\u001b[0m\u001b[0m\n\u001b[0;32m    963\u001b[0m \u001b[1;33m\u001b[0m\u001b[0m\n\u001b[1;32m--> 964\u001b[1;33m     X = check_array(\n\u001b[0m\u001b[0;32m    965\u001b[0m         \u001b[0mX\u001b[0m\u001b[1;33m,\u001b[0m\u001b[1;33m\u001b[0m\u001b[1;33m\u001b[0m\u001b[0m\n\u001b[0;32m    966\u001b[0m         \u001b[0maccept_sparse\u001b[0m\u001b[1;33m=\u001b[0m\u001b[0maccept_sparse\u001b[0m\u001b[1;33m,\u001b[0m\u001b[1;33m\u001b[0m\u001b[1;33m\u001b[0m\u001b[0m\n",
      "\u001b[1;32m~\\anaconda3\\lib\\site-packages\\sklearn\\utils\\validation.py\u001b[0m in \u001b[0;36mcheck_array\u001b[1;34m(array, accept_sparse, accept_large_sparse, dtype, order, copy, force_all_finite, ensure_2d, allow_nd, ensure_min_samples, ensure_min_features, estimator)\u001b[0m\n\u001b[0;32m    744\u001b[0m                     \u001b[0marray\u001b[0m \u001b[1;33m=\u001b[0m \u001b[0marray\u001b[0m\u001b[1;33m.\u001b[0m\u001b[0mastype\u001b[0m\u001b[1;33m(\u001b[0m\u001b[0mdtype\u001b[0m\u001b[1;33m,\u001b[0m \u001b[0mcasting\u001b[0m\u001b[1;33m=\u001b[0m\u001b[1;34m\"unsafe\"\u001b[0m\u001b[1;33m,\u001b[0m \u001b[0mcopy\u001b[0m\u001b[1;33m=\u001b[0m\u001b[1;32mFalse\u001b[0m\u001b[1;33m)\u001b[0m\u001b[1;33m\u001b[0m\u001b[1;33m\u001b[0m\u001b[0m\n\u001b[0;32m    745\u001b[0m                 \u001b[1;32melse\u001b[0m\u001b[1;33m:\u001b[0m\u001b[1;33m\u001b[0m\u001b[1;33m\u001b[0m\u001b[0m\n\u001b[1;32m--> 746\u001b[1;33m                     \u001b[0marray\u001b[0m \u001b[1;33m=\u001b[0m \u001b[0mnp\u001b[0m\u001b[1;33m.\u001b[0m\u001b[0masarray\u001b[0m\u001b[1;33m(\u001b[0m\u001b[0marray\u001b[0m\u001b[1;33m,\u001b[0m \u001b[0morder\u001b[0m\u001b[1;33m=\u001b[0m\u001b[0morder\u001b[0m\u001b[1;33m,\u001b[0m \u001b[0mdtype\u001b[0m\u001b[1;33m=\u001b[0m\u001b[0mdtype\u001b[0m\u001b[1;33m)\u001b[0m\u001b[1;33m\u001b[0m\u001b[1;33m\u001b[0m\u001b[0m\n\u001b[0m\u001b[0;32m    747\u001b[0m             \u001b[1;32mexcept\u001b[0m \u001b[0mComplexWarning\u001b[0m \u001b[1;32mas\u001b[0m \u001b[0mcomplex_warning\u001b[0m\u001b[1;33m:\u001b[0m\u001b[1;33m\u001b[0m\u001b[1;33m\u001b[0m\u001b[0m\n\u001b[0;32m    748\u001b[0m                 raise ValueError(\n",
      "\u001b[1;32m~\\anaconda3\\lib\\site-packages\\pandas\\core\\generic.py\u001b[0m in \u001b[0;36m__array__\u001b[1;34m(self, dtype)\u001b[0m\n\u001b[0;32m   2062\u001b[0m \u001b[1;33m\u001b[0m\u001b[0m\n\u001b[0;32m   2063\u001b[0m     \u001b[1;32mdef\u001b[0m \u001b[0m__array__\u001b[0m\u001b[1;33m(\u001b[0m\u001b[0mself\u001b[0m\u001b[1;33m,\u001b[0m \u001b[0mdtype\u001b[0m\u001b[1;33m:\u001b[0m \u001b[0mnpt\u001b[0m\u001b[1;33m.\u001b[0m\u001b[0mDTypeLike\u001b[0m \u001b[1;33m|\u001b[0m \u001b[1;32mNone\u001b[0m \u001b[1;33m=\u001b[0m \u001b[1;32mNone\u001b[0m\u001b[1;33m)\u001b[0m \u001b[1;33m->\u001b[0m \u001b[0mnp\u001b[0m\u001b[1;33m.\u001b[0m\u001b[0mndarray\u001b[0m\u001b[1;33m:\u001b[0m\u001b[1;33m\u001b[0m\u001b[1;33m\u001b[0m\u001b[0m\n\u001b[1;32m-> 2064\u001b[1;33m         \u001b[1;32mreturn\u001b[0m \u001b[0mnp\u001b[0m\u001b[1;33m.\u001b[0m\u001b[0masarray\u001b[0m\u001b[1;33m(\u001b[0m\u001b[0mself\u001b[0m\u001b[1;33m.\u001b[0m\u001b[0m_values\u001b[0m\u001b[1;33m,\u001b[0m \u001b[0mdtype\u001b[0m\u001b[1;33m=\u001b[0m\u001b[0mdtype\u001b[0m\u001b[1;33m)\u001b[0m\u001b[1;33m\u001b[0m\u001b[1;33m\u001b[0m\u001b[0m\n\u001b[0m\u001b[0;32m   2065\u001b[0m \u001b[1;33m\u001b[0m\u001b[0m\n\u001b[0;32m   2066\u001b[0m     def __array_wrap__(\n",
      "\u001b[1;31mValueError\u001b[0m: could not convert string to float: 'State-gov'"
     ]
    }
   ],
   "source": [
    "\n",
    "\n",
    "\n",
    "\n",
    "\n",
    "# Define a subset of the features to use\n",
    "features = ['age', 'workclass', 'education', 'education-num', 'marital-status', 'occupation', 'relationship', 'race', 'sex', 'hours-per-week', 'native-country']\n",
    "\n",
    "# Train a logistic regression model on the training data using the selected features\n",
    "model = LogisticRegression()\n",
    "model.fit(X[features], y)\n",
    "\n",
    "# Make predictions on the training data using the selected features\n",
    "y_pred = model.predict(X[features])\n",
    "\n",
    "# Evaluate the accuracy of the model's predictions\n",
    "accuracy = accuracy_score(y, y_pred)\n",
    "print(f\"Accuracy: {accuracy}\")\n",
    "\n",
    "\n"
   ]
  },
  {
   "cell_type": "markdown",
   "id": "c557c58c",
   "metadata": {},
   "source": [
    "# analyze and visualize experimental results"
   ]
  },
  {
   "cell_type": "code",
   "execution_count": null,
   "id": "f53376fc",
   "metadata": {},
   "outputs": [],
   "source": [
    "\n",
    "\n",
    "\n",
    "\n",
    "\n",
    "\n"
   ]
  },
  {
   "cell_type": "markdown",
   "id": "3614c103",
   "metadata": {},
   "source": [
    "# Question: What features work \"best\"?  Why?"
   ]
  },
  {
   "cell_type": "markdown",
   "id": "952e3d19",
   "metadata": {},
   "source": [
    "answer goes here"
   ]
  },
  {
   "cell_type": "markdown",
   "id": "d6c93802",
   "metadata": {},
   "source": [
    "# create \"best\" classification model based on training data"
   ]
  },
  {
   "cell_type": "code",
   "execution_count": 8,
   "id": "2767b308",
   "metadata": {},
   "outputs": [],
   "source": [
    "# python code..."
   ]
  },
  {
   "cell_type": "markdown",
   "id": "31b54f59",
   "metadata": {},
   "source": [
    "# read in test data "
   ]
  },
  {
   "cell_type": "code",
   "execution_count": 9,
   "id": "670b2696",
   "metadata": {},
   "outputs": [],
   "source": [
    "# python code..."
   ]
  },
  {
   "cell_type": "markdown",
   "id": "eb9712c9",
   "metadata": {},
   "source": [
    "# use model to make predictions of test data"
   ]
  },
  {
   "cell_type": "code",
   "execution_count": 10,
   "id": "061911ff",
   "metadata": {},
   "outputs": [],
   "source": [
    "# python code..."
   ]
  },
  {
   "cell_type": "markdown",
   "id": "90ac888f",
   "metadata": {},
   "source": [
    "# write test data with predicted labels"
   ]
  },
  {
   "cell_type": "code",
   "execution_count": 11,
   "id": "f781ffd5",
   "metadata": {},
   "outputs": [],
   "source": [
    "# python code..."
   ]
  }
 ],
 "metadata": {
  "kernelspec": {
   "display_name": "Python 3 (ipykernel)",
   "language": "python",
   "name": "python3"
  },
  "language_info": {
   "codemirror_mode": {
    "name": "ipython",
    "version": 3
   },
   "file_extension": ".py",
   "mimetype": "text/x-python",
   "name": "python",
   "nbconvert_exporter": "python",
   "pygments_lexer": "ipython3",
   "version": "3.9.13"
  }
 },
 "nbformat": 4,
 "nbformat_minor": 5
}
